{
 "cells": [
  {
   "cell_type": "code",
   "execution_count": 1,
   "id": "ce3b3541",
   "metadata": {},
   "outputs": [],
   "source": [
    "import pandas as pd\n",
    "import numpy as np\n",
    "import seaborn as sns\n",
    "import matplotlib.pyplot as plt\n",
    "from sklearn.model_selection import train_test_split\n",
    "from sklearn.metrics import accuracy_score\n",
    "from sklearn.metrics import classification_report\n",
    "import re\n",
    "import string\n",
    "import warnings\n",
    "warnings.filterwarnings('ignore')"
   ]
  },
  {
   "cell_type": "code",
   "execution_count": 2,
   "id": "1186fc09",
   "metadata": {
    "scrolled": false
   },
   "outputs": [
    {
     "data": {
      "text/html": [
       "<div>\n",
       "<style scoped>\n",
       "    .dataframe tbody tr th:only-of-type {\n",
       "        vertical-align: middle;\n",
       "    }\n",
       "\n",
       "    .dataframe tbody tr th {\n",
       "        vertical-align: top;\n",
       "    }\n",
       "\n",
       "    .dataframe thead th {\n",
       "        text-align: right;\n",
       "    }\n",
       "</style>\n",
       "<table border=\"1\" class=\"dataframe\">\n",
       "  <thead>\n",
       "    <tr style=\"text-align: right;\">\n",
       "      <th></th>\n",
       "      <th>label</th>\n",
       "      <th>text</th>\n",
       "    </tr>\n",
       "  </thead>\n",
       "  <tbody>\n",
       "    <tr>\n",
       "      <th>0</th>\n",
       "      <td>REAL</td>\n",
       "      <td>Payal has accused filmmaker Anurag Kashyap of ...</td>\n",
       "    </tr>\n",
       "    <tr>\n",
       "      <th>1</th>\n",
       "      <td>FAKE</td>\n",
       "      <td>A four-minute-long video of a woman criticisin...</td>\n",
       "    </tr>\n",
       "    <tr>\n",
       "      <th>2</th>\n",
       "      <td>FAKE</td>\n",
       "      <td>Republic Poll, a fake Twitter account imitatin...</td>\n",
       "    </tr>\n",
       "    <tr>\n",
       "      <th>3</th>\n",
       "      <td>REAL</td>\n",
       "      <td>Delhi teen finds place on UN green list, turns...</td>\n",
       "    </tr>\n",
       "    <tr>\n",
       "      <th>4</th>\n",
       "      <td>REAL</td>\n",
       "      <td>Delhi: A high-level meeting underway at reside...</td>\n",
       "    </tr>\n",
       "    <tr>\n",
       "      <th>5</th>\n",
       "      <td>REAL</td>\n",
       "      <td>ROME: Novak Djokovic knows it isn't model beha...</td>\n",
       "    </tr>\n",
       "    <tr>\n",
       "      <th>6</th>\n",
       "      <td>FAKE</td>\n",
       "      <td>A viral image showing controversial Islamic pr...</td>\n",
       "    </tr>\n",
       "    <tr>\n",
       "      <th>7</th>\n",
       "      <td>FAKE</td>\n",
       "      <td>Several photos are being shared with the misle...</td>\n",
       "    </tr>\n",
       "    <tr>\n",
       "      <th>8</th>\n",
       "      <td>FAKE</td>\n",
       "      <td>The driver of the DMU train Arvind Kumar has N...</td>\n",
       "    </tr>\n",
       "    <tr>\n",
       "      <th>9</th>\n",
       "      <td>FAKE</td>\n",
       "      <td>An old video of a Dassault Rafale aircraft's s...</td>\n",
       "    </tr>\n",
       "  </tbody>\n",
       "</table>\n",
       "</div>"
      ],
      "text/plain": [
       "  label                                               text\n",
       "0  REAL  Payal has accused filmmaker Anurag Kashyap of ...\n",
       "1  FAKE  A four-minute-long video of a woman criticisin...\n",
       "2  FAKE  Republic Poll, a fake Twitter account imitatin...\n",
       "3  REAL  Delhi teen finds place on UN green list, turns...\n",
       "4  REAL  Delhi: A high-level meeting underway at reside...\n",
       "5  REAL  ROME: Novak Djokovic knows it isn't model beha...\n",
       "6  FAKE  A viral image showing controversial Islamic pr...\n",
       "7  FAKE  Several photos are being shared with the misle...\n",
       "8  FAKE  The driver of the DMU train Arvind Kumar has N...\n",
       "9  FAKE  An old video of a Dassault Rafale aircraft's s..."
      ]
     },
     "execution_count": 2,
     "metadata": {},
     "output_type": "execute_result"
    }
   ],
   "source": [
    "#loading dataset\n",
    "df=pd.read_csv(r\"C:\\Users\\aksha\\Downloads\\archive (1)\\news_dataset.csv\")\n",
    "df.head(10)"
   ]
  },
  {
   "cell_type": "code",
   "execution_count": 3,
   "id": "8ecef34e",
   "metadata": {},
   "outputs": [
    {
     "data": {
      "text/html": [
       "<div>\n",
       "<style scoped>\n",
       "    .dataframe tbody tr th:only-of-type {\n",
       "        vertical-align: middle;\n",
       "    }\n",
       "\n",
       "    .dataframe tbody tr th {\n",
       "        vertical-align: top;\n",
       "    }\n",
       "\n",
       "    .dataframe thead th {\n",
       "        text-align: right;\n",
       "    }\n",
       "</style>\n",
       "<table border=\"1\" class=\"dataframe\">\n",
       "  <thead>\n",
       "    <tr style=\"text-align: right;\">\n",
       "      <th></th>\n",
       "      <th>label</th>\n",
       "      <th>text</th>\n",
       "      <th>class</th>\n",
       "    </tr>\n",
       "  </thead>\n",
       "  <tbody>\n",
       "    <tr>\n",
       "      <th>0</th>\n",
       "      <td>REAL</td>\n",
       "      <td>Payal has accused filmmaker Anurag Kashyap of ...</td>\n",
       "      <td>0</td>\n",
       "    </tr>\n",
       "    <tr>\n",
       "      <th>1</th>\n",
       "      <td>FAKE</td>\n",
       "      <td>A four-minute-long video of a woman criticisin...</td>\n",
       "      <td>0</td>\n",
       "    </tr>\n",
       "    <tr>\n",
       "      <th>2</th>\n",
       "      <td>FAKE</td>\n",
       "      <td>Republic Poll, a fake Twitter account imitatin...</td>\n",
       "      <td>0</td>\n",
       "    </tr>\n",
       "    <tr>\n",
       "      <th>3</th>\n",
       "      <td>REAL</td>\n",
       "      <td>Delhi teen finds place on UN green list, turns...</td>\n",
       "      <td>0</td>\n",
       "    </tr>\n",
       "    <tr>\n",
       "      <th>4</th>\n",
       "      <td>REAL</td>\n",
       "      <td>Delhi: A high-level meeting underway at reside...</td>\n",
       "      <td>0</td>\n",
       "    </tr>\n",
       "    <tr>\n",
       "      <th>5</th>\n",
       "      <td>REAL</td>\n",
       "      <td>ROME: Novak Djokovic knows it isn't model beha...</td>\n",
       "      <td>0</td>\n",
       "    </tr>\n",
       "    <tr>\n",
       "      <th>6</th>\n",
       "      <td>FAKE</td>\n",
       "      <td>A viral image showing controversial Islamic pr...</td>\n",
       "      <td>0</td>\n",
       "    </tr>\n",
       "    <tr>\n",
       "      <th>7</th>\n",
       "      <td>FAKE</td>\n",
       "      <td>Several photos are being shared with the misle...</td>\n",
       "      <td>0</td>\n",
       "    </tr>\n",
       "    <tr>\n",
       "      <th>8</th>\n",
       "      <td>FAKE</td>\n",
       "      <td>The driver of the DMU train Arvind Kumar has N...</td>\n",
       "      <td>0</td>\n",
       "    </tr>\n",
       "    <tr>\n",
       "      <th>9</th>\n",
       "      <td>FAKE</td>\n",
       "      <td>An old video of a Dassault Rafale aircraft's s...</td>\n",
       "      <td>0</td>\n",
       "    </tr>\n",
       "  </tbody>\n",
       "</table>\n",
       "</div>"
      ],
      "text/plain": [
       "  label                                               text  class\n",
       "0  REAL  Payal has accused filmmaker Anurag Kashyap of ...      0\n",
       "1  FAKE  A four-minute-long video of a woman criticisin...      0\n",
       "2  FAKE  Republic Poll, a fake Twitter account imitatin...      0\n",
       "3  REAL  Delhi teen finds place on UN green list, turns...      0\n",
       "4  REAL  Delhi: A high-level meeting underway at reside...      0\n",
       "5  REAL  ROME: Novak Djokovic knows it isn't model beha...      0\n",
       "6  FAKE  A viral image showing controversial Islamic pr...      0\n",
       "7  FAKE  Several photos are being shared with the misle...      0\n",
       "8  FAKE  The driver of the DMU train Arvind Kumar has N...      0\n",
       "9  FAKE  An old video of a Dassault Rafale aircraft's s...      0"
      ]
     },
     "execution_count": 3,
     "metadata": {},
     "output_type": "execute_result"
    }
   ],
   "source": [
    "#creating new column class with 0/1\n",
    "df[\"class\"]=0\n",
    "df.head(10)"
   ]
  },
  {
   "cell_type": "code",
   "execution_count": 4,
   "id": "d68aa31d",
   "metadata": {},
   "outputs": [
    {
     "data": {
      "text/html": [
       "<div>\n",
       "<style scoped>\n",
       "    .dataframe tbody tr th:only-of-type {\n",
       "        vertical-align: middle;\n",
       "    }\n",
       "\n",
       "    .dataframe tbody tr th {\n",
       "        vertical-align: top;\n",
       "    }\n",
       "\n",
       "    .dataframe thead th {\n",
       "        text-align: right;\n",
       "    }\n",
       "</style>\n",
       "<table border=\"1\" class=\"dataframe\">\n",
       "  <thead>\n",
       "    <tr style=\"text-align: right;\">\n",
       "      <th></th>\n",
       "      <th>label</th>\n",
       "      <th>text</th>\n",
       "      <th>class</th>\n",
       "    </tr>\n",
       "  </thead>\n",
       "  <tbody>\n",
       "    <tr>\n",
       "      <th>0</th>\n",
       "      <td>REAL</td>\n",
       "      <td>Payal has accused filmmaker Anurag Kashyap of ...</td>\n",
       "      <td>1</td>\n",
       "    </tr>\n",
       "    <tr>\n",
       "      <th>1</th>\n",
       "      <td>FAKE</td>\n",
       "      <td>A four-minute-long video of a woman criticisin...</td>\n",
       "      <td>0</td>\n",
       "    </tr>\n",
       "    <tr>\n",
       "      <th>2</th>\n",
       "      <td>FAKE</td>\n",
       "      <td>Republic Poll, a fake Twitter account imitatin...</td>\n",
       "      <td>0</td>\n",
       "    </tr>\n",
       "    <tr>\n",
       "      <th>3</th>\n",
       "      <td>REAL</td>\n",
       "      <td>Delhi teen finds place on UN green list, turns...</td>\n",
       "      <td>1</td>\n",
       "    </tr>\n",
       "    <tr>\n",
       "      <th>4</th>\n",
       "      <td>REAL</td>\n",
       "      <td>Delhi: A high-level meeting underway at reside...</td>\n",
       "      <td>1</td>\n",
       "    </tr>\n",
       "    <tr>\n",
       "      <th>5</th>\n",
       "      <td>REAL</td>\n",
       "      <td>ROME: Novak Djokovic knows it isn't model beha...</td>\n",
       "      <td>1</td>\n",
       "    </tr>\n",
       "    <tr>\n",
       "      <th>6</th>\n",
       "      <td>FAKE</td>\n",
       "      <td>A viral image showing controversial Islamic pr...</td>\n",
       "      <td>0</td>\n",
       "    </tr>\n",
       "    <tr>\n",
       "      <th>7</th>\n",
       "      <td>FAKE</td>\n",
       "      <td>Several photos are being shared with the misle...</td>\n",
       "      <td>0</td>\n",
       "    </tr>\n",
       "    <tr>\n",
       "      <th>8</th>\n",
       "      <td>FAKE</td>\n",
       "      <td>The driver of the DMU train Arvind Kumar has N...</td>\n",
       "      <td>0</td>\n",
       "    </tr>\n",
       "    <tr>\n",
       "      <th>9</th>\n",
       "      <td>FAKE</td>\n",
       "      <td>An old video of a Dassault Rafale aircraft's s...</td>\n",
       "      <td>0</td>\n",
       "    </tr>\n",
       "  </tbody>\n",
       "</table>\n",
       "</div>"
      ],
      "text/plain": [
       "  label                                               text  class\n",
       "0  REAL  Payal has accused filmmaker Anurag Kashyap of ...      1\n",
       "1  FAKE  A four-minute-long video of a woman criticisin...      0\n",
       "2  FAKE  Republic Poll, a fake Twitter account imitatin...      0\n",
       "3  REAL  Delhi teen finds place on UN green list, turns...      1\n",
       "4  REAL  Delhi: A high-level meeting underway at reside...      1\n",
       "5  REAL  ROME: Novak Djokovic knows it isn't model beha...      1\n",
       "6  FAKE  A viral image showing controversial Islamic pr...      0\n",
       "7  FAKE  Several photos are being shared with the misle...      0\n",
       "8  FAKE  The driver of the DMU train Arvind Kumar has N...      0\n",
       "9  FAKE  An old video of a Dassault Rafale aircraft's s...      0"
      ]
     },
     "execution_count": 4,
     "metadata": {},
     "output_type": "execute_result"
    }
   ],
   "source": [
    "#marking class=1 for 'real' labels\n",
    "df['class'] = df['label'].apply(lambda x: 1 if x == 'REAL' else 0)\n",
    "df.head(10)"
   ]
  },
  {
   "cell_type": "code",
   "execution_count": 5,
   "id": "71c17092",
   "metadata": {},
   "outputs": [
    {
     "data": {
      "text/plain": [
       "label    0\n",
       "text     8\n",
       "class    0\n",
       "dtype: int64"
      ]
     },
     "execution_count": 5,
     "metadata": {},
     "output_type": "execute_result"
    }
   ],
   "source": [
    "#to check for null/missing values in all the rows\n",
    "df.isnull().sum()"
   ]
  },
  {
   "cell_type": "code",
   "execution_count": 6,
   "id": "9d6bcc3a",
   "metadata": {},
   "outputs": [
    {
     "data": {
      "text/plain": [
       "label    0\n",
       "text     0\n",
       "class    0\n",
       "dtype: int64"
      ]
     },
     "execution_count": 6,
     "metadata": {},
     "output_type": "execute_result"
    }
   ],
   "source": [
    "#dropping rows which have missing values and store data into new dataframe\n",
    "new_df = df.dropna(axis = 0, how ='any')\n",
    "new_df.isnull().sum()"
   ]
  },
  {
   "cell_type": "code",
   "execution_count": 7,
   "id": "284313a1",
   "metadata": {},
   "outputs": [
    {
     "data": {
      "image/png": "[encoded data removed]",
      "text/plain": [
       "<Figure size 640x480 with 1 Axes>"
      ]
     },
     "metadata": {},
     "output_type": "display_data"
    }
   ],
   "source": [
    "#visualization\n",
    "import seaborn as sns\n",
    "from matplotlib import pyplot as plt\n",
    "sns.countplot(x=\"class\",data=new_df)\n",
    "plt.title(\"Fake-Real Comparison in Dataframe\")\n",
    "plt.xlabel(\"Category\")\n",
    "plt.xticks([0, 1], [\"Fake\", \"Real\"])\n",
    "plt.show()"
   ]
  },
  {
   "cell_type": "code",
   "execution_count": 10,
   "id": "b06b82fc",
   "metadata": {},
   "outputs": [],
   "source": [
    "#text processing function-wordopt\n",
    "import re\n",
    "import string\n",
    "def wordopt(text):\n",
    "    if isinstance(text, str): #only process strings and not other data types\n",
    "        text = text.lower()\n",
    "        text = re.sub(r'\\[.*?\\]', '', text)\n",
    "        text = re.sub(r'\\\\W', ' ', text)\n",
    "        text = re.sub(r'https?://\\S+|www\\.\\S+', '', text)\n",
    "        text = re.sub(r'<.*?>', '', text)\n",
    "        text = re.sub(r'[%s]' % re.escape(string.punctuation), '', text)\n",
    "        text = re.sub(r'\\n', ' ', text)\n",
    "        text = re.sub(r'\\w*\\d\\w*', '', text)\n",
    "    return text"
   ]
  },
  {
   "cell_type": "code",
   "execution_count": 11,
   "id": "a19395b6",
   "metadata": {},
   "outputs": [],
   "source": [
    "#applying wordopt to our dataset\n",
    "new_df[\"text\"] = new_df[\"text\"].apply(wordopt)"
   ]
  },
  {
   "cell_type": "code",
   "execution_count": 12,
   "id": "1a508b56",
   "metadata": {},
   "outputs": [],
   "source": [
    "#splitting data for training and testing\n",
    "x = new_df[\"text\"]\n",
    "y = new_df[\"class\"]\n",
    "x_train, x_test, y_train, y_test = train_test_split(x, y, test_size=0.2)"
   ]
  },
  {
   "cell_type": "code",
   "execution_count": 13,
   "id": "9c9d72df",
   "metadata": {},
   "outputs": [],
   "source": [
    "#transform text data into TF-IDF (Term Frequency-Inverse Document Frequency)\n",
    "#This is a common step in natural language processing (NLP)\n",
    "from sklearn.feature_extraction.text import TfidfVectorizer\n",
    "vectorization = TfidfVectorizer()\n",
    "xv_train = vectorization.fit_transform(x_train)\n",
    "xv_test = vectorization.transform(x_test)"
   ]
  },
  {
   "cell_type": "code",
   "execution_count": 14,
   "id": "db2a2872",
   "metadata": {},
   "outputs": [],
   "source": [
    "#applying linear regression model to the vectorizations\n",
    "from sklearn.linear_model import LogisticRegression\n",
    "LR = LogisticRegression()\n",
    "LR.fit(xv_train,y_train)\n",
    "pred_lr=LR.predict(xv_test)"
   ]
  },
  {
   "cell_type": "code",
   "execution_count": 15,
   "id": "f8df5774",
   "metadata": {},
   "outputs": [
    {
     "name": "stdout",
     "output_type": "stream",
     "text": [
      "              precision    recall  f1-score   support\n",
      "\n",
      "           0       1.00      1.00      1.00       372\n",
      "           1       1.00      1.00      1.00       373\n",
      "\n",
      "    accuracy                           1.00       745\n",
      "   macro avg       1.00      1.00      1.00       745\n",
      "weighted avg       1.00      1.00      1.00       745\n",
      "\n"
     ]
    }
   ],
   "source": [
    "print(classification_report(y_test, pred_lr))"
   ]
  },
  {
   "cell_type": "code",
   "execution_count": 16,
   "id": "b6a9a445",
   "metadata": {},
   "outputs": [],
   "source": [
    "def output_label(n):\n",
    "    if n == 0:\n",
    "        return \"Fake News\"\n",
    "    elif n == 1:\n",
    "        return \"Not A Fake News\"\n",
    "\n",
    "def manual_testing():\n",
    "    news= input()\n",
    "    testing_news = {\"text\":[news]}\n",
    "    new_def_test = pd.DataFrame(testing_news)\n",
    "    new_def_test[\"text\"] = new_def_test[\"text\"].apply(wordopt)\n",
    "    new_x_test = new_def_test[\"text\"]\n",
    "    new_xv_test = vectorization.transform(new_x_test)\n",
    "    pred_LR = LR.predict(new_xv_test)\n",
    "\n",
    "    return print(\"\\nPrediction: {}\".format(output_label(pred_LR[0])))"
   ]
  },
  {
   "cell_type": "code",
   "execution_count": 17,
   "id": "4c3a3603",
   "metadata": {},
   "outputs": [
    {
     "data": {
      "text/plain": [
       "'from flask import Flask, request, render_template\\nimport pandas as pd # Make sure to import necessary libraries\\napp = Flask(__name__)\\ndef output_label(n):\\n if n == 0:\\n return \"Fake News\"\\n elif n == 1:\\n return \"Not A Fake News\"\\ndef manual_testing(news):\\n # Assuming wordopt and vectorization are defined somewhere in your code\\n testing_news = {\"text\": [news]}\\n new_def_test = pd.DataFrame(testing_news)\\n new_def_test[\"text\"] = new_def_test[\"text\"].apply(wordopt)\\n new_x_test = new_def_test[\"text\"]\\n new_xv_test = vectorization.transform(new_x_test)\\n pred_LR = LR.predict(new_xv_test)\\n return output_label(pred_LR[0])\\n@app.route(\\'/\\', methods=[\\'GET\\', \\'POST\\'])\\ndef index():\\n if request.method == \\'POST\\':\\n news = request.form[\\'news\\']\\n prediction = manual_testing(news)\\n return render_template(\\'index.html\\', prediction=prediction)\\n return render_template(\\'index.html\\', prediction=None)\\nif __name__ == \\'__main__\\':\\n app.run(debug=True)\\n'"
      ]
     },
     "execution_count": 17,
     "metadata": {},
     "output_type": "execute_result"
    }
   ],
   "source": [
    "'''from flask import Flask, request, render_template\n",
    "import pandas as pd # Make sure to import necessary libraries\n",
    "app = Flask(__name__)\n",
    "def output_label(n):\n",
    " if n == 0:\n",
    " return \"Fake News\"\n",
    " elif n == 1:\n",
    " return \"Not A Fake News\"\n",
    "def manual_testing(news):\n",
    " # Assuming wordopt and vectorization are defined somewhere in your code\n",
    " testing_news = {\"text\": [news]}\n",
    " new_def_test = pd.DataFrame(testing_news)\n",
    " new_def_test[\"text\"] = new_def_test[\"text\"].apply(wordopt)\n",
    " new_x_test = new_def_test[\"text\"]\n",
    " new_xv_test = vectorization.transform(new_x_test)\n",
    " pred_LR = LR.predict(new_xv_test)\n",
    " return output_label(pred_LR[0])\n",
    "@app.route('/', methods=['GET', 'POST'])\n",
    "def index():\n",
    " if request.method == 'POST':\n",
    " news = request.form['news']\n",
    " prediction = manual_testing(news)\n",
    " return render_template('index.html', prediction=prediction)\n",
    " return render_template('index.html', prediction=None)\n",
    "if __name__ == '__main__':\n",
    " app.run(debug=True)\n",
    "'''"
   ]
  },
  {
   "cell_type": "code",
   "execution_count": 18,
   "id": "cf97f51b",
   "metadata": {},
   "outputs": [
    {
     "name": "stdout",
     "output_type": "stream",
     "text": [
      "India GDP growth in Q2 FY24 beats estimates at 9.6%\n",
      "\n",
      "Prediction: Not A Fake News\n"
     ]
    }
   ],
   "source": [
    "manual_testing()"
   ]
  },
  {
   "cell_type": "code",
   "execution_count": null,
   "id": "3543a856",
   "metadata": {},
   "outputs": [],
   "source": []
  }
 ],
 "metadata": {
  "kernelspec": {
   "display_name": "Python 3 (ipykernel)",
   "language": "python",
   "name": "python3"
  },
  "language_info": {
   "codemirror_mode": {
    "name": "ipython",
    "version": 3
   },
   "file_extension": ".py",
   "mimetype": "text/x-python",
   "name": "python",
   "nbconvert_exporter": "python",
   "pygments_lexer": "ipython3",
   "version": "3.9.13"
  }
 },
 "nbformat": 4,
 "nbformat_minor": 5
}
